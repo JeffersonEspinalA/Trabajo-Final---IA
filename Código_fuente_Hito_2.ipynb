{
  "nbformat": 4,
  "nbformat_minor": 0,
  "metadata": {
    "colab": {
      "provenance": [],
      "collapsed_sections": [],
      "mount_file_id": "1SWh-PtJfJwdSwOvJQKA9-qqhME0ZKVFF",
      "authorship_tag": "ABX9TyMmlO2bWNm1ekbX5z7S6uNF",
      "include_colab_link": true
    },
    "kernelspec": {
      "name": "python3",
      "display_name": "Python 3"
    },
    "language_info": {
      "name": "python"
    }
  },
  "cells": [
    {
      "cell_type": "markdown",
      "metadata": {
        "id": "view-in-github",
        "colab_type": "text"
      },
      "source": [
        "<a href=\"https://colab.research.google.com/github/JeffersonEspinalA/Trabajo-Final---IA/blob/main/C%C3%B3digo_fuente_Hito_2.ipynb\" target=\"_parent\"><img src=\"https://colab.research.google.com/assets/colab-badge.svg\" alt=\"Open In Colab\"/></a>"
      ]
    },
    {
      "cell_type": "markdown",
      "source": [
        "Importar librerias"
      ],
      "metadata": {
        "id": "YqK5s-1aOOCp"
      }
    },
    {
      "cell_type": "code",
      "execution_count": null,
      "metadata": {
        "id": "WpL4C2E6BRVq"
      },
      "outputs": [],
      "source": [
        "import tensorflow\n",
        "import pandas as pd\n",
        "import numpy as np\n",
        "\n",
        "from keras.models import Sequential\n",
        "from keras import optimizers\n",
        "from keras.layers import Dense, Conv2D, Dropout, Flatten, MaxPooling2D\n",
        "\n",
        "from sklearn.model_selection import train_test_split\n",
        "from sklearn.preprocessing import LabelEncoder\n",
        "from keras_preprocessing.image import ImageDataGenerator\n",
        "from keras.optimizers import SGD"
      ]
    },
    {
      "cell_type": "markdown",
      "source": [
        "Cargar datos"
      ],
      "metadata": {
        "id": "UifzlbC4OUkF"
      }
    },
    {
      "cell_type": "code",
      "source": [
        "dataset = pd.read_csv('drive/MyDrive/HAM10000/HAM10000_metadata.csv')\n",
        "dataset['image_full_name'] = dataset['image_id']+'.jpg'"
      ],
      "metadata": {
        "id": "PZd79saAeFle"
      },
      "execution_count": null,
      "outputs": []
    },
    {
      "cell_type": "markdown",
      "source": [
        "Creación del modelo"
      ],
      "metadata": {
        "id": "eRPkc3-xOYkm"
      }
    },
    {
      "cell_type": "code",
      "source": [
        "modelo = Sequential()\n",
        "modelo.add(Conv2D(64, (3, 3), activation='relu'))\n",
        "modelo.add(MaxPooling2D(pool_size=(2, 2)))\n",
        "modelo.add(Dropout(0.5))\n",
        "modelo.add(Flatten())\n",
        "modelo.add(Dense(128, activation='relu'))\n",
        "modelo.add(Dropout(0.5))\n",
        "modelo.add(Dense(7, activation='sigmoid'))"
      ],
      "metadata": {
        "id": "ABm1meJ1B1ZT"
      },
      "execution_count": null,
      "outputs": []
    },
    {
      "cell_type": "markdown",
      "source": [
        "Dividir datos: entrenamiento, prueba y validación"
      ],
      "metadata": {
        "id": "JXweXVnmOcV2"
      }
    },
    {
      "cell_type": "code",
      "source": [
        "X = dataset[['image_full_name','dx','lesion_id']]\n",
        "Y = X.pop('dx').to_frame()\n",
        "X_entre, X_prueba, Y_entre, Y_prueba = train_test_split(X, Y, test_size=0.15, random_state=42)\n",
        "X_entre, X_val, Y_entre, Y_val = train_test_split(X_entre, Y_entre, test_size=0.15, random_state=42)"
      ],
      "metadata": {
        "id": "3TcIuWmMeIAK"
      },
      "execution_count": null,
      "outputs": []
    },
    {
      "cell_type": "code",
      "source": [
        "entre = pd.concat([X_entre, Y_entre],axis=1)\n",
        "val = pd.concat([X_val, Y_val],axis=1)\n",
        "prueba = pd.concat([X_prueba, Y_prueba],axis=1)"
      ],
      "metadata": {
        "id": "dfjLYflueUKr"
      },
      "execution_count": null,
      "outputs": []
    },
    {
      "cell_type": "code",
      "source": [
        "encoder = LabelEncoder()\n",
        "encoder.fit(val['dx'])\n",
        "tipo_indice_entre = encoder.transform(val['dx']) \n",
        "val['label'] = tipo_indice_entre"
      ],
      "metadata": {
        "id": "5W29LUUeeXhO"
      },
      "execution_count": null,
      "outputs": []
    },
    {
      "cell_type": "code",
      "source": [
        "encoder = LabelEncoder()\n",
        "encoder.fit(prueba['dx'])\n",
        "tipo_indice_prueba = encoder.transform(prueba['dx']) \n",
        "prueba['label'] = tipo_indice_prueba"
      ],
      "metadata": {
        "id": "CkN4mJ7LedpT"
      },
      "execution_count": null,
      "outputs": []
    },
    {
      "cell_type": "code",
      "source": [
        "entre_generator = ImageDataGenerator(rescale=1./255, rotation_range=10, zoom_range = 0.1, \n",
        "                                     width_shift_range=0.0, height_shift_range=0.00)"
      ],
      "metadata": {
        "id": "o4aauJ98eg95"
      },
      "execution_count": null,
      "outputs": []
    },
    {
      "cell_type": "code",
      "source": [
        "datos_entre = entre_generator.flow_from_dataframe(dataframe=entre, x_col=\"image_full_name\", y_col=\"dx\",\n",
        "                                                  batch_size=32, directory=\"drive/MyDrive/HAM10000/HAM10000_images\",\n",
        "                                                  shuffle=True, class_mode=\"categorical\", target_size=(224,224))"
      ],
      "metadata": {
        "colab": {
          "base_uri": "https://localhost:8080/"
        },
        "id": "NW28l5MTeidV",
        "outputId": "1be4c9cf-ed45-4420-cf67-5f537f03f18b"
      },
      "execution_count": null,
      "outputs": [
        {
          "output_type": "stream",
          "name": "stdout",
          "text": [
            "Found 7235 validated image filenames belonging to 7 classes.\n"
          ]
        }
      ]
    },
    {
      "cell_type": "code",
      "source": [
        "prueba_generator = ImageDataGenerator(rescale=1./255,rotation_range=10, zoom_range=0.1, \n",
        "                                      width_shift_range=0.0, height_shift_range=0.02)"
      ],
      "metadata": {
        "id": "3MfEXIBvekPm"
      },
      "execution_count": null,
      "outputs": []
    },
    {
      "cell_type": "code",
      "source": [
        "datos_prueba = prueba_generator.flow_from_dataframe(dataframe=prueba, x_col=\"image_full_name\", y_col=\"dx\",\n",
        "                                                    directory=\"drive/MyDrive/HAM10000/HAM10000_images\",\n",
        "                                                    shuffle=False, batch_size=1, class_mode=None, target_size=(224,224))"
      ],
      "metadata": {
        "colab": {
          "base_uri": "https://localhost:8080/"
        },
        "id": "r3q9QbFDenC5",
        "outputId": "baa121f9-3dbe-48b4-f9bf-0240a56f2de4"
      },
      "execution_count": null,
      "outputs": [
        {
          "output_type": "stream",
          "name": "stdout",
          "text": [
            "Found 1503 validated image filenames.\n"
          ]
        }
      ]
    },
    {
      "cell_type": "code",
      "source": [
        "datos_val = prueba_generator.flow_from_dataframe(dataframe=val, x_col=\"image_full_name\", y_col=\"dx\",\n",
        "                                                 directory=\"drive/MyDrive/HAM10000/HAM10000_images\",\n",
        "                                                 batch_size=64, shuffle=False, class_mode=\"categorical\", target_size=(224,224))"
      ],
      "metadata": {
        "colab": {
          "base_uri": "https://localhost:8080/"
        },
        "id": "TX375xS0erIC",
        "outputId": "60efdb76-3903-4c1a-cb3d-b6469103b803"
      },
      "execution_count": null,
      "outputs": [
        {
          "output_type": "stream",
          "name": "stdout",
          "text": [
            "Found 1277 validated image filenames belonging to 7 classes.\n"
          ]
        }
      ]
    },
    {
      "cell_type": "markdown",
      "source": [
        "Compilar modelo"
      ],
      "metadata": {
        "id": "LKjl1fD6OlAX"
      }
    },
    {
      "cell_type": "code",
      "source": [
        "sgd = optimizers.SGD(learning_rate=0.01, clipvalue=0.5)\n",
        "modelo.compile(optimizer=sgd,loss=\"categorical_crossentropy\",metrics=[\"accuracy\"])"
      ],
      "metadata": {
        "id": "aX07qD-eeusD"
      },
      "execution_count": null,
      "outputs": []
    },
    {
      "cell_type": "markdown",
      "source": [
        "Entrenar modelo"
      ],
      "metadata": {
        "id": "5sfRnB9kOnLm"
      }
    },
    {
      "cell_type": "code",
      "source": [
        "history = modelo.fit_generator(generator=datos_entre, steps_per_epoch=datos_entre.samples//datos_entre.batch_size,\n",
        "                               validation_data=datos_val, verbose=1, validation_steps=datos_val.samples//datos_val.batch_size,\n",
        "                               epochs=3)"
      ],
      "metadata": {
        "colab": {
          "base_uri": "https://localhost:8080/"
        },
        "id": "UwckrpDBe2a8",
        "outputId": "a9243992-8fd0-4c09-8269-6cebd0d6e3e8"
      },
      "execution_count": null,
      "outputs": [
        {
          "output_type": "stream",
          "name": "stderr",
          "text": [
            "/usr/local/lib/python3.7/dist-packages/ipykernel_launcher.py:3: UserWarning: `Model.fit_generator` is deprecated and will be removed in a future version. Please use `Model.fit`, which supports generators.\n",
            "  This is separate from the ipykernel package so we can avoid doing imports until\n"
          ]
        },
        {
          "output_type": "stream",
          "name": "stdout",
          "text": [
            "Epoch 1/3\n",
            "226/226 [==============================] - 3937s 17s/step - loss: 1.2071 - accuracy: 0.6640 - val_loss: 1.0440 - val_accuracy: 0.6752\n",
            "Epoch 2/3\n",
            "226/226 [==============================] - 557s 2s/step - loss: 1.0299 - accuracy: 0.6706 - val_loss: 0.9667 - val_accuracy: 0.6752\n",
            "Epoch 3/3\n",
            "226/226 [==============================] - 551s 2s/step - loss: 0.9918 - accuracy: 0.6697 - val_loss: 0.9322 - val_accuracy: 0.6752\n"
          ]
        }
      ]
    },
    {
      "cell_type": "markdown",
      "source": [
        "Evaluación porcentaje de precisión"
      ],
      "metadata": {
        "id": "SMzUTdiBOq_8"
      }
    },
    {
      "cell_type": "code",
      "source": [
        "datos_prueba.reset()\n",
        "predicciones = modelo.predict_generator(datos_prueba, steps=datos_prueba.samples/datos_prueba.batch_size, verbose=1)\n",
        "x_pred = np.argmax(predicciones, axis=1)\n",
        "cant = np.where(x_pred == tipo_indice_prueba)\n",
        "print(f\"Tasa de precision del modelo: {(np.count_nonzero(cant) / len(tipo_indice_prueba)) * 100}%\")"
      ],
      "metadata": {
        "colab": {
          "base_uri": "https://localhost:8080/"
        },
        "id": "qIVm7nYSshNa",
        "outputId": "8e2bc44f-70ae-4867-a9d4-d8ab4be4e47b"
      },
      "execution_count": null,
      "outputs": [
        {
          "output_type": "stream",
          "name": "stdout",
          "text": [
            "\r   1/1503 [..............................] - ETA: 3:12"
          ]
        },
        {
          "output_type": "stream",
          "name": "stderr",
          "text": [
            "/usr/local/lib/python3.7/dist-packages/ipykernel_launcher.py:2: UserWarning: `Model.predict_generator` is deprecated and will be removed in a future version. Please use `Model.predict`, which supports generators.\n",
            "  \n"
          ]
        },
        {
          "output_type": "stream",
          "name": "stdout",
          "text": [
            "1503/1503 [==============================] - 85s 57ms/step\n",
            "Tasa de precision del modelo: 66.40053226879574%\n"
          ]
        }
      ]
    },
    {
      "cell_type": "markdown",
      "source": [
        "Probar con una imagen en especifico"
      ],
      "metadata": {
        "id": "61Ha6h0oOw8G"
      }
    },
    {
      "cell_type": "code",
      "source": [
        "def predecir(direccion_img):\n",
        "  lesion_clases_dicc = {\n",
        "    0 : 'Melanocytic nevi',\n",
        "    1 : 'Melanoma',\n",
        "    2 : 'Benign keratosis-like lesions ',\n",
        "    3 : 'Basal cell carcinoma',\n",
        "    4 : 'Actinic keratoses',\n",
        "    5 : 'Vascular lesions',\n",
        "    6 : 'Dermatofibroma'\n",
        "  }\n",
        "\n",
        "  imagen = tensorflow.keras.preprocessing.image.load_img(direccion_img, target_size=(224,224,3))\n",
        "\n",
        "  x = tensorflow.keras.preprocessing.image.img_to_array(imagen)\n",
        "  x = np.expand_dims(x, axis=0)\n",
        "\n",
        "  prediccion = modelo.predict(x)\n",
        "  pred_clase = prediccion.argmax(axis=-1)      \n",
        "\n",
        "  pr = lesion_clases_dicc[pred_clase[0]]\n",
        "  resultado =str(pr)  \n",
        "  return resultado"
      ],
      "metadata": {
        "id": "QKACBzc7PVKU"
      },
      "execution_count": null,
      "outputs": []
    },
    {
      "cell_type": "code",
      "source": [
        "print(predecir(\"drive/MyDrive/HAM10000/HAM10000_images/ISIC_0029562.jpg\"))"
      ],
      "metadata": {
        "colab": {
          "base_uri": "https://localhost:8080/"
        },
        "id": "Cl--yxYKPxHI",
        "outputId": "c809ea08-c62e-4633-e850-4f05321ab559"
      },
      "execution_count": null,
      "outputs": [
        {
          "output_type": "stream",
          "name": "stdout",
          "text": [
            "1/1 [==============================] - 0s 65ms/step\n",
            "Melanoma\n"
          ]
        }
      ]
    },
    {
      "cell_type": "code",
      "source": [
        "print(predecir(\"drive/MyDrive/HAM10000/HAM10000_images/ISIC_0025775.jpg\"))"
      ],
      "metadata": {
        "colab": {
          "base_uri": "https://localhost:8080/"
        },
        "id": "Eh5z7q2UP67u",
        "outputId": "0ab22220-2392-4ac8-bcb3-2a40dd29b39d"
      },
      "execution_count": null,
      "outputs": [
        {
          "output_type": "stream",
          "name": "stdout",
          "text": [
            "1/1 [==============================] - 0s 150ms/step\n",
            "Benign keratosis-like lesions \n"
          ]
        }
      ]
    },
    {
      "cell_type": "code",
      "source": [
        "print(predecir(\"drive/MyDrive/HAM10000/HAM10000_images/ISIC_0032115.jpg\"))"
      ],
      "metadata": {
        "colab": {
          "base_uri": "https://localhost:8080/"
        },
        "id": "IPVecOg3QFfs",
        "outputId": "030ddfc2-70b9-4694-c68c-17e61ab4b157"
      },
      "execution_count": null,
      "outputs": [
        {
          "output_type": "stream",
          "name": "stdout",
          "text": [
            "1/1 [==============================] - 0s 104ms/step\n",
            "Melanocytic nevi\n"
          ]
        }
      ]
    },
    {
      "cell_type": "code",
      "source": [
        "print(predecir(\"drive/MyDrive/HAM10000/HAM10000_images/ISIC_0033883.jpg\"))"
      ],
      "metadata": {
        "colab": {
          "base_uri": "https://localhost:8080/"
        },
        "id": "NVanx_0BQeRB",
        "outputId": "2c624a87-f745-45d7-f976-8e0ae09fd4e6"
      },
      "execution_count": null,
      "outputs": [
        {
          "output_type": "stream",
          "name": "stdout",
          "text": [
            "1/1 [==============================] - 0s 67ms/step\n",
            "Melanoma\n"
          ]
        }
      ]
    },
    {
      "cell_type": "code",
      "source": [
        "print(predecir(\"drive/MyDrive/HAM10000/HAM10000_images/ISIC_0031919.jpg\"))"
      ],
      "metadata": {
        "colab": {
          "base_uri": "https://localhost:8080/"
        },
        "id": "y-cbmLw_QwiL",
        "outputId": "a4406983-65bf-48b9-9c59-f5fe794b132e"
      },
      "execution_count": null,
      "outputs": [
        {
          "output_type": "stream",
          "name": "stdout",
          "text": [
            "1/1 [==============================] - 0s 82ms/step\n",
            "Melanocytic nevi\n"
          ]
        }
      ]
    },
    {
      "cell_type": "markdown",
      "source": [
        "Guardar modelo"
      ],
      "metadata": {
        "id": "kTUgK5N-PDWQ"
      }
    },
    {
      "cell_type": "code",
      "source": [
        "modelo.save('Trabajo_Final.h5')"
      ],
      "metadata": {
        "id": "Q4L3RoolPFAc"
      },
      "execution_count": null,
      "outputs": []
    }
  ]
}